{
 "cells": [
  {
   "cell_type": "code",
   "execution_count": 46,
   "metadata": {},
   "outputs": [
    {
     "data": {
      "text/plain": [
       "['emma',\n",
       " 'olivia',\n",
       " 'ava',\n",
       " 'isabella',\n",
       " 'sophia',\n",
       " 'charlotte',\n",
       " 'mia',\n",
       " 'amelia',\n",
       " 'harper',\n",
       " 'evelyn']"
      ]
     },
     "execution_count": 46,
     "metadata": {},
     "output_type": "execute_result"
    }
   ],
   "source": [
    "# only lower-case english letters\n",
    "names_text = open(\"names.txt\", \"r\").read()\n",
    "\n",
    "words = names_text.splitlines()\n",
    "words[:10]"
   ]
  },
  {
   "cell_type": "code",
   "execution_count": 47,
   "metadata": {},
   "outputs": [
    {
     "data": {
      "text/plain": [
       "['<emma>',\n",
       " '<olivia>',\n",
       " '<ava>',\n",
       " '<isabella>',\n",
       " '<sophia>',\n",
       " '<charlotte>',\n",
       " '<mia>',\n",
       " '<amelia>',\n",
       " '<harper>',\n",
       " '<evelyn>']"
      ]
     },
     "execution_count": 47,
     "metadata": {},
     "output_type": "execute_result"
    }
   ],
   "source": [
    "# We would like to artifically create start/end symbols for each word\n",
    "# let them be <S> and <E> respectively\n",
    "words = [\"<\" + word + \">\" for word in words]\n",
    "words[:10]\n",
    "\n",
    "# Later when we train the model based on frequency, it'll be useful to know\n",
    "# what is a popular way to start and end a word\n",
    "\n",
    "# For example '<S>' -> 'a' is popular because there are a lot of names starting with 'a'\n",
    "# and         '<E>' -> 'n' is popular because there are a lot of names ending with 'n'"
   ]
  },
  {
   "cell_type": "code",
   "execution_count": 48,
   "metadata": {},
   "outputs": [],
   "source": [
    "# Let's count frequencies\n",
    "def letter_index(c):    \n",
    "    if c == '<':\n",
    "        return 0\n",
    "    elif c == '>':\n",
    "        return 1\n",
    "    return ord(c) - ord('a') + 2\n",
    "    \n",
    "\n",
    "freq = [[0 for _ in range(28)] for _ in range(28)]\n",
    "\n",
    "for w in words:\n",
    "    for c, c_succ in zip(w, w[1:]):\n",
    "        # freq[0][2] = how many times '<S>' is followed by 'a'\n",
    "        freq[letter_index(c)][letter_index(c_succ)] += 1\n",
    "        "
   ]
  },
  {
   "cell_type": "code",
   "execution_count": null,
   "metadata": {},
   "outputs": [
    {
     "name": "stdout",
     "output_type": "stream",
     "text": [
      "bahananarahty\n",
      "lile\n",
      "kletrtaionionendhva\n",
      "hazariantoyn\n",
      "amihali\n"
     ]
    }
   ],
   "source": [
    "# Let's try to generate a name stochastically based on frequency\n",
    "import random\n",
    "\n",
    "def index_to_char(i):\n",
    "    if i == 0:\n",
    "        return '<'\n",
    "    elif i == 1:\n",
    "        return '>'\n",
    "    return chr(i - 2 + ord('a'))\n",
    "\n",
    "def generate_name_stochastically():\n",
    "    name = \"<\"\n",
    "    while name[-1] != \">\":\n",
    "        next_char = random.choices(range(28), freq[letter_index(name[-1])])[0]\n",
    "        name += index_to_char(next_char)\n",
    "    return name[1:-1]\n",
    "\n",
    "for _ in range(5):\n",
    "    print(generate_name_stochastically())"
   ]
  },
  {
   "cell_type": "code",
   "execution_count": null,
   "metadata": {},
   "outputs": [],
   "source": []
  }
 ],
 "metadata": {
  "kernelspec": {
   "display_name": "Python 3",
   "language": "python",
   "name": "python3"
  },
  "language_info": {
   "codemirror_mode": {
    "name": "ipython",
    "version": 3
   },
   "file_extension": ".py",
   "mimetype": "text/x-python",
   "name": "python",
   "nbconvert_exporter": "python",
   "pygments_lexer": "ipython3",
   "version": "3.12.4"
  }
 },
 "nbformat": 4,
 "nbformat_minor": 2
}
