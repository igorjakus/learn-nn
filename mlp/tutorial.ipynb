{
 "cells": [
  {
   "cell_type": "code",
   "execution_count": 1,
   "metadata": {},
   "outputs": [],
   "source": [
    "import torch\n",
    "import torch.nn.functional as F\n",
    "import matplotlib.pyplot as plt\n",
    "%matplotlib inline"
   ]
  },
  {
   "cell_type": "code",
   "execution_count": 2,
   "metadata": {},
   "outputs": [
    {
     "data": {
      "text/plain": [
       "['emma', 'olivia', 'ava', 'isabella', 'sophia']"
      ]
     },
     "execution_count": 2,
     "metadata": {},
     "output_type": "execute_result"
    }
   ],
   "source": [
    "names_text = open(\"names.txt\", \"r\").read()\n",
    "words = names_text.splitlines()\n",
    "words[:5]"
   ]
  },
  {
   "cell_type": "code",
   "execution_count": 3,
   "metadata": {},
   "outputs": [
    {
     "data": {
      "text/plain": [
       "32033"
      ]
     },
     "execution_count": 3,
     "metadata": {},
     "output_type": "execute_result"
    }
   ],
   "source": [
    "len(words)"
   ]
  },
  {
   "cell_type": "code",
   "execution_count": 4,
   "metadata": {},
   "outputs": [
    {
     "data": {
      "text/plain": [
       "27"
      ]
     },
     "execution_count": 4,
     "metadata": {},
     "output_type": "execute_result"
    }
   ],
   "source": [
    "chars = ['.'] + sorted(list(set(\"\".join(words)) - set(['.'])))\n",
    "ctoi = {c: i for i, c in enumerate(chars)}\n",
    "itoc = {i: c for i, c in enumerate(chars)}\n",
    "VOCABULARY_SIZE = len(chars)\n",
    "VOCABULARY_SIZE"
   ]
  },
  {
   "cell_type": "code",
   "execution_count": 5,
   "metadata": {},
   "outputs": [
    {
     "data": {
      "text/plain": [
       "torch.Size([196113, 3])"
      ]
     },
     "execution_count": 5,
     "metadata": {},
     "output_type": "execute_result"
    }
   ],
   "source": [
    "CONTEXT_LENGTH = 3\n",
    "X, Y = [], []\n",
    "for word in words:\n",
    "    # print(word)\n",
    "    context = [0] * CONTEXT_LENGTH\n",
    "    for c in word:\n",
    "        idx = ctoi[c]\n",
    "        X.append(context)\n",
    "        Y.append(idx)\n",
    "        # print(\"\".join(itoc[i] for i in context), \"----->\", itoc[idx])\n",
    "        context = context[1:] + [idx]\n",
    "\n",
    "\n",
    "# X is a list of contexts and Y is a associated list of characters that follow the context\n",
    "# for example:\n",
    "# \"abc\" -> \"d\" is represented as [0, 1, 2] -> 3\n",
    "# where [0, 1, 2] \\in X and 3 \\in Y\n",
    "X, Y = torch.tensor(X), torch.tensor(Y)\n",
    "X.shape"
   ]
  },
  {
   "cell_type": "code",
   "execution_count": 6,
   "metadata": {},
   "outputs": [
    {
     "data": {
      "text/plain": [
       "tensor([[-1.1164, -0.5164],\n",
       "        [ 0.0722,  0.0232],\n",
       "        [ 0.9174,  1.1120],\n",
       "        [-1.4235,  0.5143],\n",
       "        [ 0.4937,  1.3675],\n",
       "        [-0.1749, -0.0838],\n",
       "        [ 0.0614, -1.5793],\n",
       "        [ 0.1766, -1.1690],\n",
       "        [-0.4535, -0.7382],\n",
       "        [ 0.3714, -1.9877],\n",
       "        [ 0.1047,  0.3011],\n",
       "        [ 0.0942, -0.6268],\n",
       "        [-0.5751,  0.4746],\n",
       "        [ 1.1451,  0.2695],\n",
       "        [-0.4930, -2.5167],\n",
       "        [ 1.0447,  0.5471],\n",
       "        [ 1.4879, -1.4767],\n",
       "        [ 0.5205, -0.0673],\n",
       "        [ 0.9143,  0.7341],\n",
       "        [-0.8811,  0.1741],\n",
       "        [ 0.9351, -0.1631],\n",
       "        [-1.2363, -1.8751],\n",
       "        [-1.5996,  0.7975],\n",
       "        [-0.3029,  1.1794],\n",
       "        [ 1.1434,  1.3323],\n",
       "        [-2.1338, -0.0730],\n",
       "        [-1.1322, -0.9324]])"
      ]
     },
     "execution_count": 6,
     "metadata": {},
     "output_type": "execute_result"
    }
   ],
   "source": [
    "EMBEDDING_DIMS = 2\n",
    "C = torch.randn((VOCABULARY_SIZE, EMBEDDING_DIMS)) # embeddding matrix\n",
    "C"
   ]
  },
  {
   "cell_type": "code",
   "execution_count": 7,
   "metadata": {},
   "outputs": [
    {
     "data": {
      "text/plain": [
       "tensor([-1.4235,  0.5143])"
      ]
     },
     "execution_count": 7,
     "metadata": {},
     "output_type": "execute_result"
    }
   ],
   "source": [
    "# How to embedd letter 'c'?\n",
    "idx = ctoi['c']\n",
    "C[idx]"
   ]
  },
  {
   "cell_type": "code",
   "execution_count": 8,
   "metadata": {},
   "outputs": [
    {
     "data": {
      "text/plain": [
       "tensor([[-1.1164, -0.5164],\n",
       "        [ 0.0722,  0.0232],\n",
       "        [ 0.9174,  1.1120]])"
      ]
     },
     "execution_count": 8,
     "metadata": {},
     "output_type": "execute_result"
    }
   ],
   "source": [
    "# How to embedd context 'abc'?\n",
    "context = [0, 1, 2]\n",
    "C[[context]]"
   ]
  },
  {
   "cell_type": "code",
   "execution_count": 9,
   "metadata": {},
   "outputs": [
    {
     "data": {
      "text/plain": [
       "tensor([[[-1.1164, -0.5164],\n",
       "         [ 0.0722,  0.0232],\n",
       "         [ 0.9174,  1.1120]],\n",
       "\n",
       "        [[ 0.0722,  0.0232],\n",
       "         [ 0.9174,  1.1120],\n",
       "         [-1.4235,  0.5143]]])"
      ]
     },
     "execution_count": 9,
     "metadata": {},
     "output_type": "execute_result"
    }
   ],
   "source": [
    "# How to embedd context 'abc' and 'bcd' simultaneously?\n",
    "contexts = torch.tensor([[0, 1, 2], [1, 2, 3]])\n",
    "C[contexts]"
   ]
  },
  {
   "cell_type": "code",
   "execution_count": 10,
   "metadata": {},
   "outputs": [
    {
     "data": {
      "text/plain": [
       "torch.Size([196113, 3, 2])"
      ]
     },
     "execution_count": 10,
     "metadata": {},
     "output_type": "execute_result"
    }
   ],
   "source": [
    "# How to embedd all contexts?\n",
    "embedding = C[X]\n",
    "embedding.shape"
   ]
  },
  {
   "cell_type": "code",
   "execution_count": 11,
   "metadata": {},
   "outputs": [
    {
     "data": {
      "text/plain": [
       "torch.Size([196113, 6])"
      ]
     },
     "execution_count": 11,
     "metadata": {},
     "output_type": "execute_result"
    }
   ],
   "source": [
    "# Concat all embeddings within a context\n",
    "embedding = embedding.reshape(len(X), EMBEDDING_DIMS * CONTEXT_LENGTH)\n",
    "embedding.shape"
   ]
  },
  {
   "cell_type": "code",
   "execution_count": null,
   "metadata": {},
   "outputs": [],
   "source": [
    "VOCABULARY_SIZE = len(chars)\n",
    "EMBEDDING_DIMS = 2\n",
    "CONTEXT_LENGTH = 3\n",
    "HIDDEN_LAYER = 100\n",
    "\n",
    "class MLP():\n",
    "    def __init__(self):\n",
    "        self.C = torch.randn((VOCABULARY_SIZE, EMBEDDING_DIMS), requires_grad=True)\n",
    "\n",
    "        self.W1 = torch.randn((EMBEDDING_DIMS * CONTEXT_LENGTH, HIDDEN_LAYER), requires_grad=True)\n",
    "        self.b1 = torch.randn((HIDDEN_LAYER), requires_grad=True)\n",
    "\n",
    "        self.W2 = torch.randn(HIDDEN_LAYER, VOCABULARY_SIZE, requires_grad=True)\n",
    "        self.b2 = torch.randn(VOCABULARY_SIZE, requires_grad=True)\n",
    "\n",
    "        self.loss = None\n",
    "\n",
    "    def forward(self, X: torch.tensor) -> torch.tensor:\n",
    "        X = F.tanh(X @ self.W1 + self.b1)\n",
    "        X = X @ self.W2 + self.b2\n",
    "        return X\n",
    "\n",
    "    def calculate_loss(self, X: torch.tensor, Y: torch.tensor) -> torch.tensor:\n",
    "        self.loss = F.cross_entropy(X, Y)\n",
    "        return self.loss\n",
    "\n",
    "    def backward(self):\n",
    "        self.W1.grad = None\n",
    "        self.b1.grad = None\n",
    "        self.W2.grad = None\n",
    "        self.b2.grad = None\n",
    "        self.C.grad = None\n",
    "        self.loss.backward()\n",
    "\n",
    "    def update(self, lr: float):\n",
    "        self.W1.data -= self.W1.grad * lr \n",
    "        self.b1.data -= self.b1.grad * lr\n",
    "        self.W2.data -= self.W2.grad * lr\n",
    "        self.b2.data -= self.b2.grad * lr\n",
    "        self.C.data -= self.C.grad * lr\n",
    "\n",
    "    def train(self, X: torch.tensor, Y: torch.tensor, epochs: int, lr: float, batch_size: int):\n",
    "        for epoch in range(epochs):\n",
    "            # select mini-batch\n",
    "            batch_idx = torch.randint(0, len(X), (batch_size,))\n",
    "            X_train = X[batch_idx]\n",
    "            y_train = Y[batch_idx]\n",
    "\n",
    "            embedded = self.embedd(X_train)\n",
    "            logits = self.forward(embedded)\n",
    "            self.calculate_loss(logits, y_train)\n",
    "            self.backward()\n",
    "            self.update(lr)\n",
    "            # print(f\"{epoch=}, loss={self.loss.item()}\")\n",
    "\n",
    "    def embedd(self, X: torch.tensor) -> torch.tensor:\n",
    "        X = self.C[X]\n",
    "        return X.view(-1, EMBEDDING_DIMS * CONTEXT_LENGTH)\n",
    "\n",
    "    def predict(self, text: str) -> str:\n",
    "        context = torch.tensor([ctoi[c] for c in text[:CONTEXT_LENGTH]])\n",
    "        embedd = self.embedd(context)\n",
    "        logits = self.forward(embedd)\n",
    "        # select stochasticaly\n",
    "        idx = torch.multinomial(F.softmax(logits, dim=1), 1).item()\n",
    "        return text + itoc[idx]\n",
    "    \n",
    "    def evaluate(self, X: torch.tensor, Y: torch.tensor) -> float:\n",
    "        embedded = self.embedd(X)\n",
    "        logits = self.forward(embedded)\n",
    "        return F.cross_entropy(logits, Y).item()"
   ]
  },
  {
   "cell_type": "code",
   "execution_count": 141,
   "metadata": {},
   "outputs": [
    {
     "data": {
      "text/plain": [
       "8.951860427856445"
      ]
     },
     "execution_count": 141,
     "metadata": {},
     "output_type": "execute_result"
    }
   ],
   "source": [
    "# Evaluate the model on entire dataset\n",
    "mlp = MLP()\n",
    "mlp.train(X, Y, epochs=100, lr=1, batch_size=32)\n",
    "mlp.evaluate(X, Y)"
   ]
  },
  {
   "cell_type": "code",
   "execution_count": 142,
   "metadata": {},
   "outputs": [
    {
     "data": {
      "image/png": "[encoded data removed]",
      "text/plain": [
       "<Figure size 640x480 with 1 Axes>"
      ]
     },
     "metadata": {},
     "output_type": "display_data"
    }
   ],
   "source": [
    "# Determine the reasonable learning rate\n",
    "mlp = MLP()\n",
    "lre = torch.linspace(-3, 0, 1000)\n",
    "lrs = 10**lre\n",
    "\n",
    "losses = []\n",
    "lri = []\n",
    "\n",
    "for lr in lrs:\n",
    "    mlp.train(X, Y, epochs=1, lr=lr, batch_size=32)\n",
    "    losses.append(mlp.loss.item())\n",
    "    lri.append(lr)\n",
    "\n",
    "plt.plot(lri, losses)\n",
    "plt.xlabel(\"Learning rate\")\n",
    "plt.ylabel(\"Loss\")\n",
    "plt.xscale('log')\n",
    "plt.show()"
   ]
  },
  {
   "cell_type": "code",
   "execution_count": 143,
   "metadata": {},
   "outputs": [],
   "source": [
    "# Seems like the learning rate 0.1 is reasonable\n",
    "mlp = MLP()\n",
    "mlp.train(X, Y, epochs=100000, lr=0.1, batch_size=32)"
   ]
  },
  {
   "cell_type": "code",
   "execution_count": 144,
   "metadata": {},
   "outputs": [
    {
     "data": {
      "text/plain": [
       "2.454648017883301"
      ]
     },
     "execution_count": 144,
     "metadata": {},
     "output_type": "execute_result"
    }
   ],
   "source": [
    "mlp.evaluate(X, Y)"
   ]
  },
  {
   "cell_type": "code",
   "execution_count": 153,
   "metadata": {},
   "outputs": [],
   "source": [
    "# Let's do lerning rate decay\n",
    "mlp.train(X, Y, epochs=10000, lr=0.001, batch_size=32)"
   ]
  },
  {
   "cell_type": "code",
   "execution_count": null,
   "metadata": {},
   "outputs": [
    {
     "data": {
      "text/plain": [
       "2.295415163040161"
      ]
     },
     "execution_count": 155,
     "metadata": {},
     "output_type": "execute_result"
    }
   ],
   "source": [
    "# Much better than our bigram model!\n",
    "mlp.evaluate(X, Y)"
   ]
  },
  {
   "cell_type": "code",
   "execution_count": null,
   "metadata": {},
   "outputs": [],
   "source": []
  }
 ],
 "metadata": {
  "kernelspec": {
   "display_name": "Python 3",
   "language": "python",
   "name": "python3"
  },
  "language_info": {
   "codemirror_mode": {
    "name": "ipython",
    "version": 3
   },
   "file_extension": ".py",
   "mimetype": "text/x-python",
   "name": "python",
   "nbconvert_exporter": "python",
   "pygments_lexer": "ipython3",
   "version": "3.12.4"
  }
 },
 "nbformat": 4,
 "nbformat_minor": 2
}
