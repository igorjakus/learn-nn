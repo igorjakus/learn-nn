{
 "cells": [
  {
   "cell_type": "code",
   "execution_count": 1,
   "metadata": {},
   "outputs": [],
   "source": [
    "import torch\n",
    "import torch.nn.functional as F\n",
    "import matplotlib.pyplot as plt\n",
    "%matplotlib inline"
   ]
  },
  {
   "cell_type": "code",
   "execution_count": 2,
   "metadata": {},
   "outputs": [
    {
     "data": {
      "text/plain": [
       "['emma', 'olivia', 'ava', 'isabella', 'sophia']"
      ]
     },
     "execution_count": 2,
     "metadata": {},
     "output_type": "execute_result"
    }
   ],
   "source": [
    "names_text = open(\"names.txt\", \"r\").read()\n",
    "words = names_text.splitlines()\n",
    "words[:5]"
   ]
  },
  {
   "cell_type": "code",
   "execution_count": 3,
   "metadata": {},
   "outputs": [
    {
     "data": {
      "text/plain": [
       "32033"
      ]
     },
     "execution_count": 3,
     "metadata": {},
     "output_type": "execute_result"
    }
   ],
   "source": [
    "len(words)"
   ]
  },
  {
   "cell_type": "code",
   "execution_count": 4,
   "metadata": {},
   "outputs": [
    {
     "data": {
      "text/plain": [
       "27"
      ]
     },
     "execution_count": 4,
     "metadata": {},
     "output_type": "execute_result"
    }
   ],
   "source": [
    "chars = ['.'] + sorted(list(set(\"\".join(words)) - set(['.'])))\n",
    "ctoi = {c: i for i, c in enumerate(chars)}\n",
    "itoc = {i: c for i, c in enumerate(chars)}\n",
    "VOCABULARY_SIZE = len(chars)\n",
    "VOCABULARY_SIZE"
   ]
  },
  {
   "cell_type": "code",
   "execution_count": 5,
   "metadata": {},
   "outputs": [
    {
     "data": {
      "text/plain": [
       "torch.Size([196113, 3])"
      ]
     },
     "execution_count": 5,
     "metadata": {},
     "output_type": "execute_result"
    }
   ],
   "source": [
    "CONTEXT_LENGTH = 3\n",
    "X, Y = [], []\n",
    "for word in words:\n",
    "    # print(word)\n",
    "    context = [0] * CONTEXT_LENGTH\n",
    "    for c in word:\n",
    "        idx = ctoi[c]\n",
    "        X.append(context)\n",
    "        Y.append(idx)\n",
    "        # print(\"\".join(itoc[i] for i in context), \"----->\", itoc[idx])\n",
    "        context = context[1:] + [idx]\n",
    "\n",
    "\n",
    "# X is a list of contexts and Y is a associated list of characters that follow the context\n",
    "# for example:\n",
    "# \"abc\" -> \"d\" is represented as [0, 1, 2] -> 3\n",
    "# where [0, 1, 2] \\in X and 3 \\in Y\n",
    "X, Y = torch.tensor(X), torch.tensor(Y)\n",
    "X.shape"
   ]
  },
  {
   "cell_type": "code",
   "execution_count": 6,
   "metadata": {},
   "outputs": [
    {
     "data": {
      "text/plain": [
       "tensor([[-1.1164, -0.5164],\n",
       "        [ 0.0722,  0.0232],\n",
       "        [ 0.9174,  1.1120],\n",
       "        [-1.4235,  0.5143],\n",
       "        [ 0.4937,  1.3675],\n",
       "        [-0.1749, -0.0838],\n",
       "        [ 0.0614, -1.5793],\n",
       "        [ 0.1766, -1.1690],\n",
       "        [-0.4535, -0.7382],\n",
       "        [ 0.3714, -1.9877],\n",
       "        [ 0.1047,  0.3011],\n",
       "        [ 0.0942, -0.6268],\n",
       "        [-0.5751,  0.4746],\n",
       "        [ 1.1451,  0.2695],\n",
       "        [-0.4930, -2.5167],\n",
       "        [ 1.0447,  0.5471],\n",
       "        [ 1.4879, -1.4767],\n",
       "        [ 0.5205, -0.0673],\n",
       "        [ 0.9143,  0.7341],\n",
       "        [-0.8811,  0.1741],\n",
       "        [ 0.9351, -0.1631],\n",
       "        [-1.2363, -1.8751],\n",
       "        [-1.5996,  0.7975],\n",
       "        [-0.3029,  1.1794],\n",
       "        [ 1.1434,  1.3323],\n",
       "        [-2.1338, -0.0730],\n",
       "        [-1.1322, -0.9324]])"
      ]
     },
     "execution_count": 6,
     "metadata": {},
     "output_type": "execute_result"
    }
   ],
   "source": [
    "EMBEDDING_DIMS = 2\n",
    "C = torch.randn((VOCABULARY_SIZE, EMBEDDING_DIMS)) # embeddding matrix\n",
    "C"
   ]
  },
  {
   "cell_type": "code",
   "execution_count": 7,
   "metadata": {},
   "outputs": [
    {
     "data": {
      "text/plain": [
       "tensor([-1.4235,  0.5143])"
      ]
     },
     "execution_count": 7,
     "metadata": {},
     "output_type": "execute_result"
    }
   ],
   "source": [
    "# How to embedd letter 'c'?\n",
    "idx = ctoi['c']\n",
    "C[idx]"
   ]
  },
  {
   "cell_type": "code",
   "execution_count": 8,
   "metadata": {},
   "outputs": [
    {
     "data": {
      "text/plain": [
       "tensor([[-1.1164, -0.5164],\n",
       "        [ 0.0722,  0.0232],\n",
       "        [ 0.9174,  1.1120]])"
      ]
     },
     "execution_count": 8,
     "metadata": {},
     "output_type": "execute_result"
    }
   ],
   "source": [
    "# How to embedd context 'abc'?\n",
    "context = [0, 1, 2]\n",
    "C[[context]]"
   ]
  },
  {
   "cell_type": "code",
   "execution_count": 9,
   "metadata": {},
   "outputs": [
    {
     "data": {
      "text/plain": [
       "tensor([[[-1.1164, -0.5164],\n",
       "         [ 0.0722,  0.0232],\n",
       "         [ 0.9174,  1.1120]],\n",
       "\n",
       "        [[ 0.0722,  0.0232],\n",
       "         [ 0.9174,  1.1120],\n",
       "         [-1.4235,  0.5143]]])"
      ]
     },
     "execution_count": 9,
     "metadata": {},
     "output_type": "execute_result"
    }
   ],
   "source": [
    "# How to embedd context 'abc' and 'bcd' simultaneously?\n",
    "contexts = torch.tensor([[0, 1, 2], [1, 2, 3]])\n",
    "C[contexts]"
   ]
  },
  {
   "cell_type": "code",
   "execution_count": 10,
   "metadata": {},
   "outputs": [
    {
     "data": {
      "text/plain": [
       "torch.Size([196113, 3, 2])"
      ]
     },
     "execution_count": 10,
     "metadata": {},
     "output_type": "execute_result"
    }
   ],
   "source": [
    "# How to embedd all contexts?\n",
    "embedding = C[X]\n",
    "embedding.shape"
   ]
  },
  {
   "cell_type": "code",
   "execution_count": 11,
   "metadata": {},
   "outputs": [
    {
     "data": {
      "text/plain": [
       "torch.Size([196113, 6])"
      ]
     },
     "execution_count": 11,
     "metadata": {},
     "output_type": "execute_result"
    }
   ],
   "source": [
    "# Concat all embeddings within a context\n",
    "embedding = embedding.reshape(len(X), EMBEDDING_DIMS * CONTEXT_LENGTH)\n",
    "embedding.shape"
   ]
  },
  {
   "cell_type": "code",
   "execution_count": 91,
   "metadata": {},
   "outputs": [],
   "source": [
    "VOCABULARY_SIZE = len(chars)\n",
    "EMBEDDING_DIMS = 2\n",
    "CONTEXT_LENGTH = 3\n",
    "HIDDEN_LAYER = 100\n",
    "\n",
    "class MLP():\n",
    "    def __init__(self):\n",
    "        self.C = torch.randn((VOCABULARY_SIZE, EMBEDDING_DIMS), requires_grad=True)\n",
    "\n",
    "        self.W1 = torch.randn((EMBEDDING_DIMS * CONTEXT_LENGTH, HIDDEN_LAYER), requires_grad=True)\n",
    "        self.b1 = torch.randn((HIDDEN_LAYER), requires_grad=True)\n",
    "\n",
    "        self.W2 = torch.randn(HIDDEN_LAYER, VOCABULARY_SIZE, requires_grad=True)\n",
    "        self.b2 = torch.randn(VOCABULARY_SIZE, requires_grad=True)\n",
    "\n",
    "        self.loss = None\n",
    "\n",
    "    def forward(self, X: torch.tensor) -> torch.tensor:\n",
    "        X = F.tanh(X @ self.W1 + self.b1)\n",
    "        X = X @ self.W2 + self.b2\n",
    "        return X\n",
    "\n",
    "    def calculate_loss(self, X: torch.tensor, Y: torch.tensor) -> torch.tensor:\n",
    "        self.loss = F.cross_entropy(X, Y)\n",
    "        return self.loss\n",
    "\n",
    "    def backward(self):\n",
    "        self.W1.grad = None\n",
    "        self.b1.grad = None\n",
    "        self.W2.grad = None\n",
    "        self.b2.grad = None\n",
    "        self.C.grad = None\n",
    "        self.loss.backward()\n",
    "\n",
    "    def update(self, lr: float):\n",
    "        self.W1.data -= self.W1.grad * lr \n",
    "        self.b1.data -= self.b1.grad * lr\n",
    "        self.W2.data -= self.W2.grad * lr\n",
    "        self.b2.data -= self.b2.grad * lr\n",
    "        self.C.data -= self.C.grad * lr\n",
    "\n",
    "    def train(self, X: torch.tensor, Y: torch.tensor, epochs: int, lr: float, batch_size: int):\n",
    "        for epoch in range(epochs):\n",
    "            # select mini-batch\n",
    "            batch_idx = torch.randint(0, len(X), (batch_size,))\n",
    "            X_train = X[batch_idx]\n",
    "            y_train = Y[batch_idx]\n",
    "\n",
    "            embedded = self.embedd(X_train)\n",
    "            logits = self.forward(embedded)\n",
    "            self.calculate_loss(logits, y_train)\n",
    "            self.backward()\n",
    "            self.update(lr)\n",
    "            print(f\"{epoch=}, loss={self.loss.item()}\")\n",
    "\n",
    "    def embedd(self, X: torch.tensor) -> torch.tensor:\n",
    "        X = self.C[X]\n",
    "        return X.view(-1, EMBEDDING_DIMS * CONTEXT_LENGTH)\n",
    "\n",
    "    def predict(self, text: str) -> str:\n",
    "        context = torch.tensor([ctoi[c] for c in text[:CONTEXT_LENGTH]])\n",
    "        embedd = self.embedd(context)\n",
    "        logits = self.forward(embedd)\n",
    "        # select stochasticaly\n",
    "        idx = torch.multinomial(F.softmax(logits, dim=1), 1).item()\n",
    "        return text + itoc[idx]\n",
    "\n",
    "\n",
    "mlp = MLP()"
   ]
  },
  {
   "cell_type": "code",
   "execution_count": 92,
   "metadata": {},
   "outputs": [
    {
     "name": "stdout",
     "output_type": "stream",
     "text": [
      "epoch=0, loss=18.487560272216797\n",
      "epoch=1, loss=14.18852710723877\n",
      "epoch=2, loss=12.875374794006348\n",
      "epoch=3, loss=12.889845848083496\n",
      "epoch=4, loss=11.22828483581543\n",
      "epoch=5, loss=10.858001708984375\n",
      "epoch=6, loss=7.089676380157471\n",
      "epoch=7, loss=12.394556999206543\n",
      "epoch=8, loss=9.526505470275879\n",
      "epoch=9, loss=10.299681663513184\n",
      "epoch=10, loss=6.668736934661865\n",
      "epoch=11, loss=7.009541034698486\n",
      "epoch=12, loss=7.759087562561035\n",
      "epoch=13, loss=8.177937507629395\n",
      "epoch=14, loss=6.309706211090088\n",
      "epoch=15, loss=8.17553424835205\n",
      "epoch=16, loss=6.582551002502441\n",
      "epoch=17, loss=5.698831081390381\n",
      "epoch=18, loss=4.764451503753662\n",
      "epoch=19, loss=5.749251365661621\n",
      "epoch=20, loss=5.516822814941406\n",
      "epoch=21, loss=5.4595537185668945\n",
      "epoch=22, loss=5.622600078582764\n",
      "epoch=23, loss=5.938854694366455\n",
      "epoch=24, loss=4.414443016052246\n",
      "epoch=25, loss=4.775655746459961\n",
      "epoch=26, loss=5.764299392700195\n",
      "epoch=27, loss=4.481814384460449\n",
      "epoch=28, loss=4.8335747718811035\n",
      "epoch=29, loss=4.936951637268066\n",
      "epoch=30, loss=5.087994575500488\n",
      "epoch=31, loss=4.836599826812744\n",
      "epoch=32, loss=5.016550064086914\n",
      "epoch=33, loss=6.7424421310424805\n",
      "epoch=34, loss=5.079309940338135\n",
      "epoch=35, loss=3.7846527099609375\n",
      "epoch=36, loss=4.861330032348633\n",
      "epoch=37, loss=4.363838195800781\n",
      "epoch=38, loss=5.36103630065918\n",
      "epoch=39, loss=4.341729164123535\n",
      "epoch=40, loss=3.794191837310791\n",
      "epoch=41, loss=4.284571647644043\n",
      "epoch=42, loss=5.551048755645752\n",
      "epoch=43, loss=4.076905250549316\n",
      "epoch=44, loss=3.732146978378296\n",
      "epoch=45, loss=4.7863054275512695\n",
      "epoch=46, loss=3.9642860889434814\n",
      "epoch=47, loss=4.7778143882751465\n",
      "epoch=48, loss=5.166243553161621\n",
      "epoch=49, loss=4.651305675506592\n",
      "epoch=50, loss=5.0030741691589355\n",
      "epoch=51, loss=3.8291807174682617\n",
      "epoch=52, loss=4.58417272567749\n",
      "epoch=53, loss=4.372832298278809\n",
      "epoch=54, loss=4.230246543884277\n",
      "epoch=55, loss=4.47591495513916\n",
      "epoch=56, loss=3.4556429386138916\n",
      "epoch=57, loss=3.924335479736328\n",
      "epoch=58, loss=3.6153299808502197\n",
      "epoch=59, loss=3.64449405670166\n",
      "epoch=60, loss=3.6298515796661377\n",
      "epoch=61, loss=3.574338674545288\n",
      "epoch=62, loss=4.786402225494385\n",
      "epoch=63, loss=2.935586452484131\n",
      "epoch=64, loss=4.865570545196533\n",
      "epoch=65, loss=3.6192214488983154\n",
      "epoch=66, loss=3.603816032409668\n",
      "epoch=67, loss=3.3146257400512695\n",
      "epoch=68, loss=3.1969211101531982\n",
      "epoch=69, loss=3.2621231079101562\n",
      "epoch=70, loss=3.790050506591797\n",
      "epoch=71, loss=3.045253038406372\n",
      "epoch=72, loss=4.851069927215576\n",
      "epoch=73, loss=3.142550468444824\n",
      "epoch=74, loss=3.1914689540863037\n",
      "epoch=75, loss=3.4010393619537354\n",
      "epoch=76, loss=3.6645970344543457\n",
      "epoch=77, loss=3.532733678817749\n",
      "epoch=78, loss=3.4276912212371826\n",
      "epoch=79, loss=3.345737934112549\n",
      "epoch=80, loss=3.144970655441284\n",
      "epoch=81, loss=3.3308260440826416\n",
      "epoch=82, loss=3.491572856903076\n",
      "epoch=83, loss=3.2806754112243652\n",
      "epoch=84, loss=3.9049508571624756\n",
      "epoch=85, loss=3.554027795791626\n",
      "epoch=86, loss=2.948601722717285\n",
      "epoch=87, loss=3.359334945678711\n",
      "epoch=88, loss=3.677769184112549\n",
      "epoch=89, loss=3.9087605476379395\n",
      "epoch=90, loss=4.073629379272461\n",
      "epoch=91, loss=3.86098313331604\n",
      "epoch=92, loss=3.3758232593536377\n",
      "epoch=93, loss=4.594332218170166\n",
      "epoch=94, loss=3.393097162246704\n",
      "epoch=95, loss=2.972409248352051\n",
      "epoch=96, loss=3.964189291000366\n",
      "epoch=97, loss=3.3831801414489746\n",
      "epoch=98, loss=3.0183937549591064\n",
      "epoch=99, loss=2.5697124004364014\n"
     ]
    }
   ],
   "source": [
    "mlp.train(X, Y, epochs=100, lr=0.2, batch_size=32)"
   ]
  },
  {
   "cell_type": "code",
   "execution_count": 98,
   "metadata": {},
   "outputs": [
    {
     "data": {
      "text/plain": [
       "'martyna'"
      ]
     },
     "execution_count": 98,
     "metadata": {},
     "output_type": "execute_result"
    }
   ],
   "source": [
    "mlp.predict(\"martyn\")"
   ]
  },
  {
   "cell_type": "code",
   "execution_count": null,
   "metadata": {},
   "outputs": [],
   "source": []
  }
 ],
 "metadata": {
  "kernelspec": {
   "display_name": "Python 3",
   "language": "python",
   "name": "python3"
  },
  "language_info": {
   "codemirror_mode": {
    "name": "ipython",
    "version": 3
   },
   "file_extension": ".py",
   "mimetype": "text/x-python",
   "name": "python",
   "nbconvert_exporter": "python",
   "pygments_lexer": "ipython3",
   "version": "3.12.4"
  }
 },
 "nbformat": 4,
 "nbformat_minor": 2
}
