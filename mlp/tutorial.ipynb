{
 "cells": [
  {
   "cell_type": "code",
   "execution_count": 1,
   "metadata": {},
   "outputs": [],
   "source": [
    "import torch\n",
    "import torch.nn.functional as F\n",
    "import matplotlib.pyplot as plt\n",
    "%matplotlib inline"
   ]
  },
  {
   "cell_type": "code",
   "execution_count": 2,
   "metadata": {},
   "outputs": [
    {
     "data": {
      "text/plain": [
       "['emma', 'olivia', 'ava', 'isabella', 'sophia']"
      ]
     },
     "execution_count": 2,
     "metadata": {},
     "output_type": "execute_result"
    }
   ],
   "source": [
    "names_text = open(\"names.txt\", \"r\").read()\n",
    "words = names_text.splitlines()\n",
    "words[:5]"
   ]
  },
  {
   "cell_type": "code",
   "execution_count": 3,
   "metadata": {},
   "outputs": [
    {
     "data": {
      "text/plain": [
       "32033"
      ]
     },
     "execution_count": 3,
     "metadata": {},
     "output_type": "execute_result"
    }
   ],
   "source": [
    "len(words)"
   ]
  },
  {
   "cell_type": "code",
   "execution_count": 4,
   "metadata": {},
   "outputs": [
    {
     "data": {
      "text/plain": [
       "27"
      ]
     },
     "execution_count": 4,
     "metadata": {},
     "output_type": "execute_result"
    }
   ],
   "source": [
    "chars = ['.'] + sorted(list(set(\"\".join(words)) - set(['.'])))\n",
    "ctoi = {c: i for i, c in enumerate(chars)}\n",
    "itoc = {i: c for i, c in enumerate(chars)}\n",
    "VOCABULARY_SIZE = len(chars)\n",
    "VOCABULARY_SIZE"
   ]
  },
  {
   "cell_type": "code",
   "execution_count": 5,
   "metadata": {},
   "outputs": [
    {
     "name": "stdout",
     "output_type": "stream",
     "text": [
      "... -----> e\n",
      "..e -----> m\n",
      ".em -----> m\n",
      "emm -----> a\n",
      "... -----> o\n",
      "..o -----> l\n",
      ".ol -----> i\n",
      "oli -----> v\n",
      "liv -----> i\n",
      "ivi -----> a\n",
      "... -----> a\n",
      "..a -----> v\n",
      ".av -----> a\n",
      "... -----> i\n",
      "..i -----> s\n",
      ".is -----> a\n",
      "isa -----> b\n",
      "sab -----> e\n",
      "abe -----> l\n",
      "bel -----> l\n",
      "ell -----> a\n"
     ]
    },
    {
     "data": {
      "text/plain": [
       "torch.Size([21, 3])"
      ]
     },
     "execution_count": 5,
     "metadata": {},
     "output_type": "execute_result"
    }
   ],
   "source": [
    "CONTEXT_LENGTH = 3\n",
    "X, Y = [], []\n",
    "for word in words[:4]:\n",
    "    # print(word)\n",
    "    context = [0] * CONTEXT_LENGTH\n",
    "    for c in word:\n",
    "        idx = ctoi[c]\n",
    "        X.append(context)\n",
    "        Y.append(idx)\n",
    "        print(\"\".join(itoc[i] for i in context), \"----->\", itoc[idx])\n",
    "        context = context[1:] + [idx]\n",
    "\n",
    "\n",
    "# X is a list of contexts and Y is a associated list of characters that follow the context\n",
    "# for example:\n",
    "# \"abc\" -> \"d\" is represented as [0, 1, 2] -> 3\n",
    "# where [0, 1, 2] \\in X and 3 \\in Y\n",
    "X, Y = torch.tensor(X), torch.tensor(Y)\n",
    "X.shape"
   ]
  },
  {
   "cell_type": "code",
   "execution_count": 6,
   "metadata": {},
   "outputs": [
    {
     "data": {
      "text/plain": [
       "tensor([[-0.3024, -0.8402],\n",
       "        [-0.0551,  0.0492],\n",
       "        [ 0.2705,  1.1926],\n",
       "        [-0.8250, -0.7439],\n",
       "        [-0.5529, -1.2632],\n",
       "        [ 0.5740,  1.4295],\n",
       "        [-0.0167, -0.0432],\n",
       "        [-1.1471, -0.3239],\n",
       "        [ 0.8151,  1.8481],\n",
       "        [-1.7194,  0.1027],\n",
       "        [ 0.5936, -0.8347],\n",
       "        [-0.6246, -0.0218],\n",
       "        [ 1.2801, -0.6115],\n",
       "        [ 0.4500, -0.9158],\n",
       "        [-1.3761, -0.9120],\n",
       "        [-0.6558,  1.1545],\n",
       "        [ 0.5499, -0.1778],\n",
       "        [-1.3890,  1.2681],\n",
       "        [-0.6789, -0.2194],\n",
       "        [-0.0587,  1.3815],\n",
       "        [-1.0874,  0.5413],\n",
       "        [-0.1611,  0.5246],\n",
       "        [-0.5200,  1.1595],\n",
       "        [-0.0278, -0.1751],\n",
       "        [ 0.4775, -0.6600],\n",
       "        [ 0.0621, -0.0870],\n",
       "        [-0.1877, -0.7860]])"
      ]
     },
     "execution_count": 6,
     "metadata": {},
     "output_type": "execute_result"
    }
   ],
   "source": [
    "EMBEDDING_DIMS = 2\n",
    "C = torch.randn((VOCABULARY_SIZE, EMBEDDING_DIMS)) # embeddding matrix\n",
    "C"
   ]
  },
  {
   "cell_type": "code",
   "execution_count": 7,
   "metadata": {},
   "outputs": [
    {
     "data": {
      "text/plain": [
       "tensor([-0.8250, -0.7439])"
      ]
     },
     "execution_count": 7,
     "metadata": {},
     "output_type": "execute_result"
    }
   ],
   "source": [
    "# How to embedd letter 'c'?\n",
    "idx = ctoi['c']\n",
    "C[idx]"
   ]
  },
  {
   "cell_type": "code",
   "execution_count": 8,
   "metadata": {},
   "outputs": [
    {
     "data": {
      "text/plain": [
       "tensor([[-0.3024, -0.8402],\n",
       "        [-0.0551,  0.0492],\n",
       "        [ 0.2705,  1.1926]])"
      ]
     },
     "execution_count": 8,
     "metadata": {},
     "output_type": "execute_result"
    }
   ],
   "source": [
    "# How to embedd context 'abc'?\n",
    "context = [0, 1, 2]\n",
    "C[[context]]"
   ]
  },
  {
   "cell_type": "code",
   "execution_count": 9,
   "metadata": {},
   "outputs": [
    {
     "data": {
      "text/plain": [
       "tensor([[[-0.3024, -0.8402],\n",
       "         [-0.0551,  0.0492],\n",
       "         [ 0.2705,  1.1926]],\n",
       "\n",
       "        [[-0.0551,  0.0492],\n",
       "         [ 0.2705,  1.1926],\n",
       "         [-0.8250, -0.7439]]])"
      ]
     },
     "execution_count": 9,
     "metadata": {},
     "output_type": "execute_result"
    }
   ],
   "source": [
    "# How to embedd context 'abc' and 'bcd' simultaneously?\n",
    "contexts = torch.tensor([[0, 1, 2], [1, 2, 3]])\n",
    "C[contexts]"
   ]
  },
  {
   "cell_type": "code",
   "execution_count": 10,
   "metadata": {},
   "outputs": [
    {
     "data": {
      "text/plain": [
       "torch.Size([21, 3, 2])"
      ]
     },
     "execution_count": 10,
     "metadata": {},
     "output_type": "execute_result"
    }
   ],
   "source": [
    "# How to embedd all contexts?\n",
    "embedding = C[X]\n",
    "embedding.shape"
   ]
  },
  {
   "cell_type": "code",
   "execution_count": null,
   "metadata": {},
   "outputs": [
    {
     "data": {
      "text/plain": [
       "torch.Size([21, 6])"
      ]
     },
     "execution_count": 14,
     "metadata": {},
     "output_type": "execute_result"
    }
   ],
   "source": [
    "# TODO: explain \n",
    "embedding = embedding.reshape(len(X), EMBEDDING_DIMS * CONTEXT_LENGTH)\n",
    "embedding.shape"
   ]
  },
  {
   "cell_type": "code",
   "execution_count": null,
   "metadata": {},
   "outputs": [],
   "source": [
    "HIDDEN_DIMS = 100\n",
    "W1 = torch.randn((EMBEDDING_DIMS * CONTEXT_LENGTH, HIDDEN_DIMS), requires_grad=True)\n",
    "b1 = torch.randn((HIDDEN_DIMS), requires_grad=True)"
   ]
  }
 ],
 "metadata": {
  "kernelspec": {
   "display_name": "Python 3",
   "language": "python",
   "name": "python3"
  },
  "language_info": {
   "codemirror_mode": {
    "name": "ipython",
    "version": 3
   },
   "file_extension": ".py",
   "mimetype": "text/x-python",
   "name": "python",
   "nbconvert_exporter": "python",
   "pygments_lexer": "ipython3",
   "version": "3.12.4"
  }
 },
 "nbformat": 4,
 "nbformat_minor": 2
}
