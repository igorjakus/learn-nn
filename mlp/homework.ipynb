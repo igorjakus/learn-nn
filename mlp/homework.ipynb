{
 "cells": [
  {
   "cell_type": "code",
   "execution_count": 12,
   "metadata": {},
   "outputs": [],
   "source": [
    "import random\n",
    "from typing import List, Tuple\n",
    "\n",
    "import torch\n",
    "import torch.nn.functional as F\n",
    "import matplotlib.pyplot as plt\n",
    "%matplotlib inline"
   ]
  },
  {
   "cell_type": "code",
   "execution_count": 13,
   "metadata": {},
   "outputs": [
    {
     "data": {
      "text/plain": [
       "(32033, ['emma', 'olivia', 'ava', 'isabella', 'sophia'])"
      ]
     },
     "execution_count": 13,
     "metadata": {},
     "output_type": "execute_result"
    }
   ],
   "source": [
    "names_text = open(\"names.txt\", \"r\").read()\n",
    "words = names_text.splitlines()\n",
    "len(words), words[:5]"
   ]
  },
  {
   "cell_type": "code",
   "execution_count": 14,
   "metadata": {},
   "outputs": [
    {
     "data": {
      "text/plain": [
       "27"
      ]
     },
     "execution_count": 14,
     "metadata": {},
     "output_type": "execute_result"
    }
   ],
   "source": [
    "chars = ['.'] + sorted(list(set(\"\".join(words)) - set(['.'])))\n",
    "ctoi = {c: i for i, c in enumerate(chars)}\n",
    "itoc = {i: c for i, c in enumerate(chars)}\n",
    "VOCABULARY_SIZE = len(chars)\n",
    "VOCABULARY_SIZE"
   ]
  },
  {
   "cell_type": "code",
   "execution_count": 15,
   "metadata": {},
   "outputs": [],
   "source": [
    "random.shuffle(words)\n",
    "n = len(words)\n",
    "train_words = words[:int(0.8*n)]\n",
    "test_words = words[int(0.8*n):int(0.9*n)]\n",
    "dev_words = words[int(0.9*n):]"
   ]
  },
  {
   "cell_type": "code",
   "execution_count": 39,
   "metadata": {},
   "outputs": [],
   "source": [
    "CONTEXT_LENGTH = 3\n",
    "\n",
    "def build_dataset(words: List[str], context_length: int = 3):\n",
    "    X, Y = [], []\n",
    "\n",
    "    for word in words:\n",
    "        # print(word)\n",
    "        context = [0] * context_length\n",
    "        for c in word:\n",
    "            idx = ctoi[c]\n",
    "            X.append(context)\n",
    "            Y.append(idx)\n",
    "            # print(\"\".join(itoc[i] for i in context), \"----->\", itoc[idx])\n",
    "            context = context[1:] + [idx]\n",
    "\n",
    "    return torch.tensor(X), torch.tensor(Y)\n",
    "\n",
    "X_train, y_train = build_dataset(train_words, context_length=CONTEXT_LENGTH)\n",
    "X_test, y_test = build_dataset(test_words, context_length=CONTEXT_LENGTH)\n",
    "X_dev, y_dev = build_dataset(dev_words, context_length=CONTEXT_LENGTH)"
   ]
  },
  {
   "cell_type": "code",
   "execution_count": null,
   "metadata": {},
   "outputs": [],
   "source": [
    "EMBEDDING_DIMS = 2\n",
    "HIDDEN_LAYER = 100\n",
    "\n",
    "class MLP():\n",
    "    def __init__(self):\n",
    "        self.C = torch.rand((VOCABULARY_SIZE, EMBEDDING_DIMS), requires_grad=True)\n",
    "\n",
    "        self.W1 = torch.rand((EMBEDDING_DIMS * CONTEXT_LENGTH, HIDDEN_LAYER), requires_grad=True)\n",
    "        self.b1 = torch.rand((HIDDEN_LAYER), requires_grad=True)\n",
    "\n",
    "        self.W2 = torch.rand(HIDDEN_LAYER, VOCABULARY_SIZE, requires_grad=True)\n",
    "        self.b2 = torch.rand(VOCABULARY_SIZE, requires_grad=True) * 0\n",
    "\n",
    "        self.loss = None\n",
    "\n",
    "    def forward(self, X: torch.tensor) -> torch.tensor:\n",
    "        X = F.tanh(X @ self.W1 + self.b1)\n",
    "        X = X @ self.W2 + self.b2\n",
    "        return X\n",
    "\n",
    "    def calculate_loss(self, X: torch.tensor, Y: torch.tensor) -> torch.tensor:\n",
    "        self.loss = F.cross_entropy(X, Y)\n",
    "        return self.loss\n",
    "\n",
    "    def backward(self):\n",
    "        self.W1.grad = None\n",
    "        self.b1.grad = None\n",
    "        self.W2.grad = None\n",
    "        self.b2.grad = None\n",
    "        self.C.grad = None\n",
    "        self.loss.backward()\n",
    "\n",
    "    def update(self, lr: float):\n",
    "        self.W1.data -= self.W1.grad * lr \n",
    "        self.b1.data -= self.b1.grad * lr\n",
    "        self.W2.data -= self.W2.grad * lr\n",
    "        self.b2.data -= self.b2.grad * lr\n",
    "        self.C.data -= self.C.grad * lr\n",
    "\n",
    "    def train(self, X: torch.tensor, Y: torch.tensor, epochs: int, lr: float, batch_size: int):\n",
    "        for epoch in range(epochs):\n",
    "            # select mini-batch\n",
    "            batch_idx = torch.randint(0, len(X), (batch_size,))\n",
    "            X_train = X[batch_idx]\n",
    "            y_train = Y[batch_idx]\n",
    "\n",
    "            embedded = self.embedd(X_train)\n",
    "            logits = self.forward(embedded)\n",
    "            self.calculate_loss(logits, y_train)\n",
    "            self.backward()\n",
    "            self.update(lr)\n",
    "            # print(f\"{epoch=}, loss={self.loss.item()}\")\n",
    "\n",
    "    def embedd(self, X: torch.tensor) -> torch.tensor:\n",
    "        X = self.C[X]\n",
    "        return X.view(-1, EMBEDDING_DIMS * CONTEXT_LENGTH)\n",
    "\n",
    "    def predict(self, text: str) -> str:\n",
    "        context = torch.tensor([ctoi[c] for c in text[:CONTEXT_LENGTH]])\n",
    "        embedd = self.embedd(context)\n",
    "        logits = self.forward(embedd)\n",
    "        # select stochasticaly\n",
    "        idx = torch.multinomial(F.softmax(logits, dim=1), 1).item()\n",
    "        return text + itoc[idx]\n",
    "    \n",
    "    def evaluate(self, X: torch.tensor, Y: torch.tensor) -> float:\n",
    "        embedded = self.embedd(X)\n",
    "        logits = self.forward(embedded)\n",
    "        return F.cross_entropy(logits, Y).item()"
   ]
  },
  {
   "cell_type": "code",
   "execution_count": 50,
   "metadata": {},
   "outputs": [
    {
     "data": {
      "text/plain": [
       "5.080120086669922"
      ]
     },
     "execution_count": 50,
     "metadata": {},
     "output_type": "execute_result"
    }
   ],
   "source": [
    "# Find loss of an untrained model\n",
    "mlp = MLP()\n",
    "mlp.evaluate(X_test, y_test)"
   ]
  },
  {
   "cell_type": "code",
   "execution_count": 33,
   "metadata": {},
   "outputs": [
    {
     "data": {
      "image/png": "[encoded data removed]",
      "text/plain": [
       "<Figure size 640x480 with 1 Axes>"
      ]
     },
     "metadata": {},
     "output_type": "display_data"
    }
   ],
   "source": [
    "# Let's find the best learning rate\n",
    "mlp = MLP()\n",
    "\n",
    "lre = torch.linspace(-3, 0, 10000)\n",
    "lrs = 10**lre\n",
    "losses = []\n",
    "\n",
    "for lr in lrs:\n",
    "    mlp.train(X_dev, y_dev, epochs=1, lr=lr, batch_size=64)\n",
    "    loss = mlp.loss.item()\n",
    "    losses.append(loss)\n",
    "\n",
    "plt.plot(lrs, losses)\n",
    "plt.xscale(\"log\")\n",
    "plt.xlabel(\"Learning rate\")\n",
    "plt.ylabel(\"Loss\")\n",
    "plt.show()"
   ]
  },
  {
   "cell_type": "code",
   "execution_count": 34,
   "metadata": {},
   "outputs": [],
   "source": [
    "# Let's train the model to find best hyperparameters\n",
    "mlp = MLP()\n",
    "mlp.train(X_dev, y_dev, epochs=50000, lr=0.1, batch_size=32)"
   ]
  },
  {
   "cell_type": "code",
   "execution_count": 37,
   "metadata": {},
   "outputs": [
    {
     "name": "stdout",
     "output_type": "stream",
     "text": [
      "Loss on dev-set: 2.3741848468780518\n",
      "Loss on test-set: 2.439335346221924\n"
     ]
    }
   ],
   "source": [
    "print(\"Loss on dev-set:\", mlp.evaluate(X_dev, y_dev))\n",
    "print(\"Loss on test-set:\", mlp.evaluate(X_test, y_test))"
   ]
  },
  {
   "cell_type": "code",
   "execution_count": null,
   "metadata": {},
   "outputs": [],
   "source": [
    "# Let's finally train the model on the train dataset\n",
    "mlp = MLP()\n",
    "mlp.train(X_train, y_train, epochs=50000, lr=0.1, batch_size=32)"
   ]
  },
  {
   "cell_type": "code",
   "execution_count": null,
   "metadata": {},
   "outputs": [],
   "source": [
    "print(\"Loss on test-set:\", mlp.evaluate(X_test, y_test))"
   ]
  }
 ],
 "metadata": {
  "kernelspec": {
   "display_name": "Python 3",
   "language": "python",
   "name": "python3"
  },
  "language_info": {
   "codemirror_mode": {
    "name": "ipython",
    "version": 3
   },
   "file_extension": ".py",
   "mimetype": "text/x-python",
   "name": "python",
   "nbconvert_exporter": "python",
   "pygments_lexer": "ipython3",
   "version": "3.12.4"
  }
 },
 "nbformat": 4,
 "nbformat_minor": 2
}
