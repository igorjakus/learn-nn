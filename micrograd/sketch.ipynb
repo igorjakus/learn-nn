{
 "cells": [
  {
   "cell_type": "code",
   "execution_count": 117,
   "metadata": {},
   "outputs": [],
   "source": [
    "import math\n",
    "import random"
   ]
  },
  {
   "cell_type": "code",
   "execution_count": 118,
   "metadata": {},
   "outputs": [],
   "source": [
    "class Value:\n",
    "    def __init__(self, data, _children=(), _op=''):\n",
    "        self.data = data\n",
    "        self.grad = 0\n",
    "        self._backward = lambda: None \n",
    "        self._prev = set(_children)\n",
    "        self._op = _op\n",
    "\n",
    "    def __repr__(self):\n",
    "        return f'Value({self.data})'\n",
    "    \n",
    "    def __add__(self, other):\n",
    "        other = other if isinstance(other, Value) else Value(other)\n",
    "        out = Value(self.data + other.data, (self, other), '+')\n",
    "        def _backward():\n",
    "            self.grad += out.grad\n",
    "            other.grad += out.grad\n",
    "        out._backward = _backward\n",
    "        return out\n",
    "    \n",
    "    def __radd__(self, other):\n",
    "        return self + other\n",
    "\n",
    "    def __neg__(self):\n",
    "        return self * -1\n",
    "\n",
    "    def __sub__(self, other):\n",
    "        return self + (-other)\n",
    "\n",
    "    def __mul__(self, other):\n",
    "        other = other if isinstance(other, Value) else Value(other)\n",
    "        out = Value(self.data * other.data, (self, other), '*')\n",
    "        def _backward():\n",
    "            self.grad += other.data * out.grad\n",
    "            other.grad += self.data * out.grad\n",
    "        out._backward = _backward\n",
    "        return out\n",
    "\n",
    "    def __rmul__(self, other):  \n",
    "        return self * other  # a * b == b * a\n",
    "\n",
    "    def __truediv__(self, other):\n",
    "        return self * other**-1\n",
    "    \n",
    "    def __pow__(self, other):\n",
    "        assert isinstance(other, (int, float)), 'only support int or float'\n",
    "        out = Value(self.data**other, (self,), f'**{other}')\n",
    "        def _backward():\n",
    "            self.grad += other * self.data**(other - 1) * out.grad\n",
    "        out._backward = _backward\n",
    "        return out\n",
    "\n",
    "    def exp(self):\n",
    "        out = Value(math.exp(self.data), (self,), 'exp')\n",
    "        def _backward():\n",
    "            self.grad += out.data * out.grad\n",
    "        out._backward = _backward\n",
    "        return out\n",
    "    \n",
    "    def tanh(self):\n",
    "        e2x = (2 * self).exp()\n",
    "        return (e2x - 1) / (e2x + 1)\n",
    "    \n",
    "    def backward(self):\n",
    "        topo = []\n",
    "        visited = set()\n",
    "        def topo_sort(v):\n",
    "            if v not in visited:\n",
    "                visited.add(v)\n",
    "                for child in v._prev:\n",
    "                    topo_sort(child)\n",
    "                topo.append(v)\n",
    "\n",
    "        topo_sort(self)\n",
    "        self.grad = 1\n",
    "        for v in reversed(topo):\n",
    "            v._backward()"
   ]
  },
  {
   "cell_type": "code",
   "execution_count": 119,
   "metadata": {},
   "outputs": [],
   "source": [
    "a = Value(2.5)\n",
    "b = Value(-1.5)\n",
    "c = Value(3.0)\n",
    "e = Value(4.0)\n",
    "d = a + (b * c * e)\n",
    "\n",
    "d.backward()"
   ]
  },
  {
   "cell_type": "code",
   "execution_count": 120,
   "metadata": {},
   "outputs": [
    {
     "data": {
      "text/plain": [
       "(1, -6.0, 12.0, 1)"
      ]
     },
     "execution_count": 120,
     "metadata": {},
     "output_type": "execute_result"
    }
   ],
   "source": [
    "d.grad, c.grad, b.grad, a.grad,"
   ]
  },
  {
   "cell_type": "code",
   "execution_count": 121,
   "metadata": {},
   "outputs": [],
   "source": [
    "class Neuron:\n",
    "    def __init__(self, nin: int):\n",
    "        self.w = [Value(random.uniform(-1, 1)) for _ in range(nin)]\n",
    "        self.b = Value(random.uniform(-1, 1))\n",
    "\n",
    "    def __call__(self, x):\n",
    "        act = sum((xi*wi for xi, wi in zip(x, self.w)), start=self.b)\n",
    "        out = act.tanh()\n",
    "        return out\n",
    "    \n",
    "    def parameters(self):\n",
    "        return self.w + [self.b]"
   ]
  },
  {
   "cell_type": "code",
   "execution_count": 122,
   "metadata": {},
   "outputs": [
    {
     "data": {
      "text/plain": [
       "Value(0.9999753967467575)"
      ]
     },
     "execution_count": 122,
     "metadata": {},
     "output_type": "execute_result"
    }
   ],
   "source": [
    "n = Neuron(2)\n",
    "x = [Value(3.), Value(2.)]\n",
    "n(x)"
   ]
  },
  {
   "cell_type": "code",
   "execution_count": 123,
   "metadata": {},
   "outputs": [],
   "source": [
    "class Layer:\n",
    "    def __init__(self, nin: int, nout: int):\n",
    "        self.neurons = [Neuron(nin) for _ in range(nout)]\n",
    "    \n",
    "    def __call__(self, x):\n",
    "        outs = [n(x) for n in self.neurons]\n",
    "        return outs if len(outs) != 1 else outs[0]\n",
    "    \n",
    "    def parameters(self):\n",
    "        return [p for n in self.neurons for p in n.parameters()]"
   ]
  },
  {
   "cell_type": "code",
   "execution_count": 124,
   "metadata": {},
   "outputs": [
    {
     "data": {
      "text/plain": [
       "[Value(0.9791749472886889),\n",
       " Value(0.4197622671780622),\n",
       " Value(-0.7820509284065802),\n",
       " Value(-0.9911296424399676),\n",
       " Value(-0.9782888524137416)]"
      ]
     },
     "execution_count": 124,
     "metadata": {},
     "output_type": "execute_result"
    }
   ],
   "source": [
    "layer = Layer(2, 5)\n",
    "layer(x)"
   ]
  },
  {
   "cell_type": "code",
   "execution_count": 125,
   "metadata": {},
   "outputs": [],
   "source": [
    "class MLP:\n",
    "    def __init__(self, nin: int, nouts: list[int]):\n",
    "        inouts = [nin] + nouts\n",
    "        self.layers = [Layer(inouts[i], inouts[i+1]) for i in range(len(inouts)-1)]\n",
    "    \n",
    "    def __call__(self, x):\n",
    "        for layer in self.layers:\n",
    "            x = layer(x)\n",
    "        return x\n",
    "    \n",
    "    def parameters(self):\n",
    "        return [p for layer in self.layers for p in layer.parameters()]"
   ]
  },
  {
   "cell_type": "code",
   "execution_count": 153,
   "metadata": {},
   "outputs": [
    {
     "data": {
      "text/plain": [
       "Value(6.769396070860063)"
      ]
     },
     "execution_count": 153,
     "metadata": {},
     "output_type": "execute_result"
    }
   ],
   "source": [
    "mlp = MLP(3, [4, 4, 1])\n",
    "\n",
    "xs = [\n",
    "    [2., 3., -1.],\n",
    "    [3., -1., 0.5],\n",
    "    [0.5, 1.0, 1.0],\n",
    "    [1., 1.0, -1.],\n",
    "]\n",
    "\n",
    "ys = [1., -1., -1., 1.]\n",
    "\n",
    "ypred = [mlp(x) for x in xs]\n",
    "loss = sum((yp - y)**2 for yp, y in zip(ypred, ys))\n",
    "loss"
   ]
  },
  {
   "cell_type": "code",
   "execution_count": 160,
   "metadata": {},
   "outputs": [
    {
     "name": "stdout",
     "output_type": "stream",
     "text": [
      "0.0019194351021543988\n",
      "0.0018970141674332862\n",
      "0.0018750948342804571\n",
      "0.00185366061476451\n",
      "0.001832695733068085\n",
      "0.0018121850875103059\n",
      "0.0017921142149728915\n",
      "0.0017724692575542635\n",
      "0.0017532369312905328\n",
      "0.0017344044967956976\n",
      "0.0017159597316844764\n",
      "0.0016978909046533972\n",
      "0.0016801867511046242\n",
      "0.0016628364502064294\n",
      "0.0016458296032927696\n",
      "0.0016291562135113617\n",
      "0.0016128066666370312\n",
      "0.0015967717129732376\n",
      "0.0015810424502705005\n",
      "0.0015656103075955474\n"
     ]
    }
   ],
   "source": [
    "for _ in range(20):\n",
    "    ypred = [mlp(x) for x in xs]\n",
    "    loss = sum((yp - y)**2 for yp, y in zip(ypred, ys))\n",
    "    print(loss.data)\n",
    "\n",
    "    loss.grad = 0\n",
    "    for p in mlp.parameters():\n",
    "        p.grad = 0\n",
    "\n",
    "    loss.backward()\n",
    "    for p in mlp.parameters():\n",
    "        p.data -= 0.2 * p.grad"
   ]
  },
  {
   "cell_type": "code",
   "execution_count": 163,
   "metadata": {},
   "outputs": [
    {
     "name": "stdout",
     "output_type": "stream",
     "text": [
      "expected=1.0, got=0.9812693814524013\n",
      "expected=-1.0, got=-0.9761542576087325\n",
      "expected=-1.0, got=-0.9850586753908456\n",
      "expected=1.0, got=0.9798067251876353\n"
     ]
    }
   ],
   "source": [
    "ypred = [mlp(x).data for x in xs]\n",
    "for yp, y in zip(ypred, ys):\n",
    "    print(f\"expected={y}, got={yp}\")"
   ]
  },
  {
   "cell_type": "code",
   "execution_count": null,
   "metadata": {},
   "outputs": [],
   "source": []
  }
 ],
 "metadata": {
  "kernelspec": {
   "display_name": "Python 3",
   "language": "python",
   "name": "python3"
  },
  "language_info": {
   "codemirror_mode": {
    "name": "ipython",
    "version": 3
   },
   "file_extension": ".py",
   "mimetype": "text/x-python",
   "name": "python",
   "nbconvert_exporter": "python",
   "pygments_lexer": "ipython3",
   "version": "3.12.4"
  }
 },
 "nbformat": 4,
 "nbformat_minor": 2
}
